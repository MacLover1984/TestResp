{
 "cells": [
  {
   "cell_type": "markdown",
   "id": "e2dc0703-4c30-4956-9055-3ea23a77712e",
   "metadata": {},
   "source": [
    "# Data Science Tools and Ecosystem"
   ]
  },
  {
   "cell_type": "markdown",
   "id": "6cc8d416-2dce-48ba-889a-9cd5ec936b16",
   "metadata": {},
   "source": [
    "In this notebook, Data Science Tools and Ecosystem are summarized."
   ]
  },
  {
   "cell_type": "markdown",
   "id": "d0809c1d-f245-4e34-8cbe-4b8818d4f8fa",
   "metadata": {},
   "source": [
    "Some of the popular languages theat Data Sientists use are:\n",
    "1. Python\n",
    "2. R\n",
    "3. Julia"
   ]
  },
  {
   "cell_type": "markdown",
   "id": "214bf4a0-34f6-4fba-a4a3-e7588a4069da",
   "metadata": {},
   "source": [
    "Some of the commonly used libraries used by Data Scientist Include:\n",
    "1. scikit-learn\n",
    "2. Tensorflow\n",
    "3. pytorch\n",
    "4. keras"
   ]
  },
  {
   "cell_type": "markdown",
   "id": "4f8c1ce6-3daa-4d9c-b7ff-cb1bcf876b35",
   "metadata": {},
   "source": [
    "|Data Science Tools|\n",
    "|---------|\n",
    "|1. Jupyter Notebooks |\n",
    "|2. RStudio |\n",
    "|3. VS Code |"
   ]
  },
  {
   "cell_type": "markdown",
   "id": "65682b14-9632-4b3f-a501-59bbdf759611",
   "metadata": {},
   "source": [
    "### Below are a few examples of evaluating arithmetic expressions in Python."
   ]
  },
  {
   "cell_type": "code",
   "execution_count": 2,
   "id": "033d6cd8-32bb-4687-99b2-e7d21279df5e",
   "metadata": {},
   "outputs": [
    {
     "data": {
      "text/plain": [
       "17"
      ]
     },
     "execution_count": 2,
     "metadata": {},
     "output_type": "execute_result"
    }
   ],
   "source": [
    "# This a simple arithmetic expression to mutiply then add integers.\n",
    "(3*4)+5"
   ]
  },
  {
   "cell_type": "code",
   "execution_count": 3,
   "id": "5b927a47-f19f-48f5-a401-353d51dba2c3",
   "metadata": {},
   "outputs": [
    {
     "data": {
      "text/plain": [
       "3.3333333333333335"
      ]
     },
     "execution_count": 3,
     "metadata": {},
     "output_type": "execute_result"
    }
   ],
   "source": [
    "# This will convert 200 minutes to hours by diving by 60.\n",
    "200/60"
   ]
  },
  {
   "cell_type": "markdown",
   "id": "6f10e36c-2659-4113-b2f9-7a683738c5a9",
   "metadata": {},
   "source": [
    "<b>Objectives</b>:\n",
    "+ Overview of Data Science Tools\n",
    "+ Languages of Data Science\n",
    "+ Packages, APIs, Data Sets, and Models\n",
    "+ Jupyter Notebook and JupyterLab\n",
    "+ RStudio & GitHub"
   ]
  },
  {
   "cell_type": "markdown",
   "id": "ded0263d-4262-4ed2-b5f2-1906438b2ad6",
   "metadata": {},
   "source": [
    "## Author\n",
    "+ Lakshmi Holla\n",
    "+ Niveditha Pandith"
   ]
  },
  {
   "cell_type": "code",
   "execution_count": null,
   "id": "4884a47c-7456-43e7-a314-157b68a28315",
   "metadata": {},
   "outputs": [],
   "source": []
  }
 ],
 "metadata": {
  "kernelspec": {
   "display_name": "Python 3 (ipykernel)",
   "language": "python",
   "name": "python3"
  },
  "language_info": {
   "codemirror_mode": {
    "name": "ipython",
    "version": 3
   },
   "file_extension": ".py",
   "mimetype": "text/x-python",
   "name": "python",
   "nbconvert_exporter": "python",
   "pygments_lexer": "ipython3",
   "version": "3.12.7"
  }
 },
 "nbformat": 4,
 "nbformat_minor": 5
}
